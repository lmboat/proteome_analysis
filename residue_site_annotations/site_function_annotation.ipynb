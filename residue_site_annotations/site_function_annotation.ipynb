{
 "cells": [
  {
   "cell_type": "markdown",
   "metadata": {},
   "source": [
    "# Stratify residues into functions based on UniProtKB annotations"
   ]
  },
  {
   "cell_type": "code",
   "execution_count": 5,
   "metadata": {},
   "outputs": [],
   "source": [
    "# Author: Lisa Boatner\n",
    "# Date Created: 221128\n",
    "# Date Modified: 221206\n",
    "# Updates: "
   ]
  },
  {
   "cell_type": "markdown",
   "metadata": {},
   "source": [
    "# Import Modules "
   ]
  },
  {
   "cell_type": "code",
   "execution_count": 6,
   "metadata": {},
   "outputs": [],
   "source": [
    "import os, sys\n",
    "import numpy as np\n",
    "import pandas as pd\n",
    "import seaborn as sns\n",
    "import string\n",
    "from matplotlib import pyplot as plt"
   ]
  },
  {
   "cell_type": "code",
   "execution_count": 12,
   "metadata": {},
   "outputs": [
    {
     "data": {
      "text/plain": [
       "'C:\\\\Users\\\\Onee-sama\\\\Documents\\\\GitHub\\\\residue_function_annotations\\\\residue_site_annotations\\\\data'"
      ]
     },
     "execution_count": 12,
     "metadata": {},
     "output_type": "execute_result"
    }
   ],
   "source": [
    "# assuming current directory is main folder\n",
    "os.chdir('data')\n",
    "cd = os.getcwd()\n",
    "cd"
   ]
  },
  {
   "cell_type": "code",
   "execution_count": 13,
   "metadata": {},
   "outputs": [],
   "source": [
    "# set the date for naming files\n",
    "date = '2401'"
   ]
  },
  {
   "cell_type": "markdown",
   "metadata": {},
   "source": [
    "# "
   ]
  },
  {
   "cell_type": "markdown",
   "metadata": {},
   "source": [
    "# UniProtKB "
   ]
  },
  {
   "cell_type": "markdown",
   "metadata": {},
   "source": [
    "## Download UniProt File with columns: Entry, Active Site, Binding Site, Disulfide Bond, Redox Potential, PDB, Sequence\n",
    "## https://rest.uniprot.org/uniprotkb/search?fields=accession%2Cid%2Cgene_names%2Cgene_primary%2Cgene_synonym%2Cprotein_name%2Cft_act_site%2Cft_binding%2Cft_dna_bind%2Ccc_catalytic_activity%2Ccc_cofactor%2Cft_disulfid%2Credox_potential%2Cft_site%2Cstructure_3d%2Ccc_function%2Ckeyword%2Csequence&format=xlsx&query=%28Human%29+AND+%28model_organism%3A9606%29+AND+%28reviewed%3Atrue%29&size=500"
   ]
  },
  {
   "cell_type": "code",
   "execution_count": 14,
   "metadata": {},
   "outputs": [
    {
     "name": "stderr",
     "output_type": "stream",
     "text": [
      "C:\\ProgramData\\anaconda3\\lib\\site-packages\\openpyxl\\styles\\stylesheet.py:226: UserWarning: Workbook contains no default style, apply openpyxl's default\n",
      "  warn(\"Workbook contains no default style, apply openpyxl's default\")\n"
     ]
    }
   ],
   "source": [
    "u_df = pd.read_excel('uniprotkb_Human_AND_model_organism_9606_2024_06_25.xlsx')"
   ]
  },
  {
   "cell_type": "code",
   "execution_count": 15,
   "metadata": {},
   "outputs": [
    {
     "data": {
      "text/plain": [
       "(20435, 18)"
      ]
     },
     "execution_count": 15,
     "metadata": {},
     "output_type": "execute_result"
    }
   ],
   "source": [
    "u_df.shape"
   ]
  },
  {
   "cell_type": "code",
   "execution_count": 16,
   "metadata": {},
   "outputs": [
    {
     "data": {
      "text/html": [
       "<div>\n",
       "<style scoped>\n",
       "    .dataframe tbody tr th:only-of-type {\n",
       "        vertical-align: middle;\n",
       "    }\n",
       "\n",
       "    .dataframe tbody tr th {\n",
       "        vertical-align: top;\n",
       "    }\n",
       "\n",
       "    .dataframe thead th {\n",
       "        text-align: right;\n",
       "    }\n",
       "</style>\n",
       "<table border=\"1\" class=\"dataframe\">\n",
       "  <thead>\n",
       "    <tr style=\"text-align: right;\">\n",
       "      <th></th>\n",
       "      <th>Entry</th>\n",
       "      <th>Entry Name</th>\n",
       "      <th>Gene Names</th>\n",
       "      <th>Gene Names (primary)</th>\n",
       "      <th>Gene Names (synonym)</th>\n",
       "      <th>Protein names</th>\n",
       "      <th>Active site</th>\n",
       "      <th>Binding site</th>\n",
       "      <th>DNA binding</th>\n",
       "      <th>Catalytic activity</th>\n",
       "      <th>Cofactor</th>\n",
       "      <th>Disulfide bond</th>\n",
       "      <th>Redox potential</th>\n",
       "      <th>Site</th>\n",
       "      <th>3D</th>\n",
       "      <th>Function [CC]</th>\n",
       "      <th>Keywords</th>\n",
       "      <th>Sequence</th>\n",
       "    </tr>\n",
       "  </thead>\n",
       "  <tbody>\n",
       "    <tr>\n",
       "      <th>0</th>\n",
       "      <td>A0A087X1C5</td>\n",
       "      <td>CP2D7_HUMAN</td>\n",
       "      <td>CYP2D7</td>\n",
       "      <td>CYP2D7</td>\n",
       "      <td>NaN</td>\n",
       "      <td>Putative cytochrome P450 2D7 (EC 1.14.14.1)</td>\n",
       "      <td>NaN</td>\n",
       "      <td>BINDING 461; /ligand=\"heme\"; /ligand_id=\"ChEBI...</td>\n",
       "      <td>NaN</td>\n",
       "      <td>CATALYTIC ACTIVITY: Reaction=an organic molecu...</td>\n",
       "      <td>COFACTOR: Name=heme; Xref=ChEBI:CHEBI:30413;</td>\n",
       "      <td>NaN</td>\n",
       "      <td>NaN</td>\n",
       "      <td>NaN</td>\n",
       "      <td>NaN</td>\n",
       "      <td>FUNCTION: May be responsible for the metabolis...</td>\n",
       "      <td>Cytoplasm;Glycoprotein;Heme;Iron;Membrane;Meta...</td>\n",
       "      <td>MGLEALVPLAMIVAIFLLLVDLMHRHQRWAARYPPGPLPLPGLGNL...</td>\n",
       "    </tr>\n",
       "    <tr>\n",
       "      <th>1</th>\n",
       "      <td>A0A0B4J2F0</td>\n",
       "      <td>PIOS1_HUMAN</td>\n",
       "      <td>PIGBOS1</td>\n",
       "      <td>PIGBOS1</td>\n",
       "      <td>NaN</td>\n",
       "      <td>Protein PIGBOS1 (PIGB opposite strand protein 1)</td>\n",
       "      <td>NaN</td>\n",
       "      <td>NaN</td>\n",
       "      <td>NaN</td>\n",
       "      <td>NaN</td>\n",
       "      <td>NaN</td>\n",
       "      <td>NaN</td>\n",
       "      <td>NaN</td>\n",
       "      <td>NaN</td>\n",
       "      <td>NaN</td>\n",
       "      <td>FUNCTION: Plays a role in regulation of the un...</td>\n",
       "      <td>Direct protein sequencing;Membrane;Mitochondri...</td>\n",
       "      <td>MFRRLTFAQLLFATVLGIAGGVYIFQPVFEQYAKDQKELKEKMQLV...</td>\n",
       "    </tr>\n",
       "    <tr>\n",
       "      <th>2</th>\n",
       "      <td>A0A0B4J2F2</td>\n",
       "      <td>SIK1B_HUMAN</td>\n",
       "      <td>SIK1B</td>\n",
       "      <td>SIK1B</td>\n",
       "      <td>NaN</td>\n",
       "      <td>Putative serine/threonine-protein kinase SIK1B...</td>\n",
       "      <td>ACT_SITE 149; /note=\"Proton acceptor\"; /eviden...</td>\n",
       "      <td>BINDING 33..41; /ligand=\"ATP\"; /ligand_id=\"ChE...</td>\n",
       "      <td>NaN</td>\n",
       "      <td>CATALYTIC ACTIVITY: Reaction=ATP + L-seryl-[pr...</td>\n",
       "      <td>COFACTOR: Name=Mg(2+); Xref=ChEBI:CHEBI:18420;...</td>\n",
       "      <td>NaN</td>\n",
       "      <td>NaN</td>\n",
       "      <td>NaN</td>\n",
       "      <td>NaN</td>\n",
       "      <td>FUNCTION: Probable serine/threonine-protein ki...</td>\n",
       "      <td>ATP-binding;Kinase;Magnesium;Metal-binding;Nuc...</td>\n",
       "      <td>MVIMSEFSADPAGQGQGQQKPLRVGFYDIERTLGKGNFAVVKLARH...</td>\n",
       "    </tr>\n",
       "    <tr>\n",
       "      <th>3</th>\n",
       "      <td>A0A0C5B5G6</td>\n",
       "      <td>MOTSC_HUMAN</td>\n",
       "      <td>MT-RNR1</td>\n",
       "      <td>MT-RNR1</td>\n",
       "      <td>NaN</td>\n",
       "      <td>Mitochondrial-derived peptide MOTS-c (Mitochon...</td>\n",
       "      <td>NaN</td>\n",
       "      <td>NaN</td>\n",
       "      <td>NaN</td>\n",
       "      <td>NaN</td>\n",
       "      <td>NaN</td>\n",
       "      <td>NaN</td>\n",
       "      <td>NaN</td>\n",
       "      <td>NaN</td>\n",
       "      <td>NaN</td>\n",
       "      <td>FUNCTION: Regulates insulin sensitivity and me...</td>\n",
       "      <td>DNA-binding;Mitochondrion;Nucleus;Osteogenesis...</td>\n",
       "      <td>MRWQEMGYIFYPRKLR</td>\n",
       "    </tr>\n",
       "    <tr>\n",
       "      <th>4</th>\n",
       "      <td>A0A0K2S4Q6</td>\n",
       "      <td>CD3CH_HUMAN</td>\n",
       "      <td>CD300H</td>\n",
       "      <td>CD300H</td>\n",
       "      <td>NaN</td>\n",
       "      <td>Protein CD300H (CD300 antigen-like family memb...</td>\n",
       "      <td>NaN</td>\n",
       "      <td>NaN</td>\n",
       "      <td>NaN</td>\n",
       "      <td>NaN</td>\n",
       "      <td>NaN</td>\n",
       "      <td>DISULFID 43..111; /evidence=\"ECO:0000255|PROSI...</td>\n",
       "      <td>NaN</td>\n",
       "      <td>NaN</td>\n",
       "      <td>NaN</td>\n",
       "      <td>FUNCTION: May play an important role in innate...</td>\n",
       "      <td>Alternative splicing;Disulfide bond;Glycoprote...</td>\n",
       "      <td>MTQRAGAAMLPSALLLLCVPGCLTVSGPSTVMGAVGESLSVQCRYE...</td>\n",
       "    </tr>\n",
       "  </tbody>\n",
       "</table>\n",
       "</div>"
      ],
      "text/plain": [
       "        Entry   Entry Name Gene Names Gene Names (primary)  \\\n",
       "0  A0A087X1C5  CP2D7_HUMAN     CYP2D7               CYP2D7   \n",
       "1  A0A0B4J2F0  PIOS1_HUMAN    PIGBOS1              PIGBOS1   \n",
       "2  A0A0B4J2F2  SIK1B_HUMAN      SIK1B                SIK1B   \n",
       "3  A0A0C5B5G6  MOTSC_HUMAN    MT-RNR1              MT-RNR1   \n",
       "4  A0A0K2S4Q6  CD3CH_HUMAN     CD300H               CD300H   \n",
       "\n",
       "  Gene Names (synonym)                                      Protein names  \\\n",
       "0                  NaN        Putative cytochrome P450 2D7 (EC 1.14.14.1)   \n",
       "1                  NaN   Protein PIGBOS1 (PIGB opposite strand protein 1)   \n",
       "2                  NaN  Putative serine/threonine-protein kinase SIK1B...   \n",
       "3                  NaN  Mitochondrial-derived peptide MOTS-c (Mitochon...   \n",
       "4                  NaN  Protein CD300H (CD300 antigen-like family memb...   \n",
       "\n",
       "                                         Active site  \\\n",
       "0                                                NaN   \n",
       "1                                                NaN   \n",
       "2  ACT_SITE 149; /note=\"Proton acceptor\"; /eviden...   \n",
       "3                                                NaN   \n",
       "4                                                NaN   \n",
       "\n",
       "                                        Binding site DNA binding  \\\n",
       "0  BINDING 461; /ligand=\"heme\"; /ligand_id=\"ChEBI...         NaN   \n",
       "1                                                NaN         NaN   \n",
       "2  BINDING 33..41; /ligand=\"ATP\"; /ligand_id=\"ChE...         NaN   \n",
       "3                                                NaN         NaN   \n",
       "4                                                NaN         NaN   \n",
       "\n",
       "                                  Catalytic activity  \\\n",
       "0  CATALYTIC ACTIVITY: Reaction=an organic molecu...   \n",
       "1                                                NaN   \n",
       "2  CATALYTIC ACTIVITY: Reaction=ATP + L-seryl-[pr...   \n",
       "3                                                NaN   \n",
       "4                                                NaN   \n",
       "\n",
       "                                            Cofactor  \\\n",
       "0       COFACTOR: Name=heme; Xref=ChEBI:CHEBI:30413;   \n",
       "1                                                NaN   \n",
       "2  COFACTOR: Name=Mg(2+); Xref=ChEBI:CHEBI:18420;...   \n",
       "3                                                NaN   \n",
       "4                                                NaN   \n",
       "\n",
       "                                      Disulfide bond Redox potential Site  \\\n",
       "0                                                NaN             NaN  NaN   \n",
       "1                                                NaN             NaN  NaN   \n",
       "2                                                NaN             NaN  NaN   \n",
       "3                                                NaN             NaN  NaN   \n",
       "4  DISULFID 43..111; /evidence=\"ECO:0000255|PROSI...             NaN  NaN   \n",
       "\n",
       "    3D                                      Function [CC]  \\\n",
       "0  NaN  FUNCTION: May be responsible for the metabolis...   \n",
       "1  NaN  FUNCTION: Plays a role in regulation of the un...   \n",
       "2  NaN  FUNCTION: Probable serine/threonine-protein ki...   \n",
       "3  NaN  FUNCTION: Regulates insulin sensitivity and me...   \n",
       "4  NaN  FUNCTION: May play an important role in innate...   \n",
       "\n",
       "                                            Keywords  \\\n",
       "0  Cytoplasm;Glycoprotein;Heme;Iron;Membrane;Meta...   \n",
       "1  Direct protein sequencing;Membrane;Mitochondri...   \n",
       "2  ATP-binding;Kinase;Magnesium;Metal-binding;Nuc...   \n",
       "3  DNA-binding;Mitochondrion;Nucleus;Osteogenesis...   \n",
       "4  Alternative splicing;Disulfide bond;Glycoprote...   \n",
       "\n",
       "                                            Sequence  \n",
       "0  MGLEALVPLAMIVAIFLLLVDLMHRHQRWAARYPPGPLPLPGLGNL...  \n",
       "1  MFRRLTFAQLLFATVLGIAGGVYIFQPVFEQYAKDQKELKEKMQLV...  \n",
       "2  MVIMSEFSADPAGQGQGQQKPLRVGFYDIERTLGKGNFAVVKLARH...  \n",
       "3                                   MRWQEMGYIFYPRKLR  \n",
       "4  MTQRAGAAMLPSALLLLCVPGCLTVSGPSTVMGAVGESLSVQCRYE...  "
      ]
     },
     "execution_count": 16,
     "metadata": {},
     "output_type": "execute_result"
    }
   ],
   "source": [
    "u_df.head()"
   ]
  },
  {
   "cell_type": "code",
   "execution_count": 17,
   "metadata": {},
   "outputs": [
    {
     "data": {
      "text/plain": [
       "['Entry',\n",
       " 'Entry Name',\n",
       " 'Gene Names',\n",
       " 'Gene Names (primary)',\n",
       " 'Gene Names (synonym)',\n",
       " 'Protein names',\n",
       " 'Active site',\n",
       " 'Binding site',\n",
       " 'DNA binding',\n",
       " 'Catalytic activity',\n",
       " 'Cofactor',\n",
       " 'Disulfide bond',\n",
       " 'Redox potential',\n",
       " 'Site',\n",
       " '3D',\n",
       " 'Function [CC]',\n",
       " 'Keywords',\n",
       " 'Sequence']"
      ]
     },
     "execution_count": 17,
     "metadata": {},
     "output_type": "execute_result"
    }
   ],
   "source": [
    "u_df.columns.to_list()"
   ]
  },
  {
   "cell_type": "markdown",
   "metadata": {},
   "source": [
    "# "
   ]
  },
  {
   "cell_type": "markdown",
   "metadata": {},
   "source": [
    "# Get Domain Range"
   ]
  },
  {
   "cell_type": "code",
   "execution_count": 43,
   "metadata": {},
   "outputs": [],
   "source": [
    "# ACT_SITE 149; /note=\"Proton acceptor\";\n",
    "# TOPO_DOM 1..24; /note=\"Extracellular\"; /evidence=\"ECO:0000255\"; TOPO_DOM 46..101; /note=\"Cytoplasmic\"; /evidence=\"ECO:0000255\"; TOPO_DOM 123..138; \n",
    "def find_domains(df, col, kw, extra):\n",
    "    \n",
    "    domains = []\n",
    "    names = []\n",
    "    \n",
    "    regions = df[col].to_list()\n",
    "    seqs = df['Sequence'].to_list()\n",
    "    pros = df['Entry'].to_list()\n",
    "    \n",
    "    for i in range(len(regions)):\n",
    "        entry = regions[i].replace('/', '')\n",
    "        entries = entry.split(';')\n",
    "        \n",
    "        skip = False\n",
    "\n",
    "        for j in range(len(entries)):\n",
    "            if kw in entries[j]:\n",
    "                \n",
    "                nums = entries[j].replace(kw + ' ', '')\n",
    "                \n",
    "                if \"?\" in nums:\n",
    "                    skip = True\n",
    "                    continue\n",
    "                \n",
    "                elif \"-\" in nums:\n",
    "                    skip = True\n",
    "                    continue\n",
    "                \n",
    "                elif \">\" in nums:\n",
    "                    nums = nums.replace('>', '')\n",
    "                    \n",
    "                elif \"..\" in nums:\n",
    "                    aa_num = nums.split('..')\n",
    "                    start = aa_num[0]\n",
    "                    end = aa_num[1]\n",
    "                else:\n",
    "                    start = nums.strip()\n",
    "                    end = nums.strip()\n",
    "                \n",
    "                sequence =  seqs[i]\n",
    "\n",
    "                if (int(start) - 1) > len(sequence):\n",
    "                    start_aa = '-'\n",
    "                else:\n",
    "                    start_aa = sequence[int(start)-1]\n",
    "                \n",
    "                if (int(end) - 1) > len(sequence):\n",
    "                    end_aa = sequence[-1]\n",
    "                else:\n",
    "                    end_aa = sequence[int(end)-1]\n",
    "                \n",
    "                identifier = pros[i] + '_' + start_aa.strip() + str(start).strip() + '_' + end_aa.strip() + str(end).strip()\n",
    "                \n",
    "                domains.append(identifier)\n",
    "                \n",
    "            if (extra in entries[j]) & (skip == False):\n",
    "                note = entries[j].replace(extra + '\"', '')[:-1].strip()\n",
    "                names.append(note)\n",
    "                \n",
    "            skip = False\n",
    "            \n",
    "        if len(domains) != len(names):\n",
    "            names.append('')\n",
    "\n",
    "    return domains, names"
   ]
  },
  {
   "cell_type": "code",
   "execution_count": 44,
   "metadata": {},
   "outputs": [],
   "source": [
    "def get_domains(df, domain_ty, domain_kw, domain_nm, extra):\n",
    "    domain_df = df[df[domain_ty].isna() == False]\n",
    "    \n",
    "    domains, names = find_domains(domain_df, domain_ty, domain_kw, extra)\n",
    "    domain_id_df = pd.DataFrame()\n",
    "    domain_id_df['identifier'] = domains\n",
    "    domain_id_df[domain_nm] = names\n",
    "    \n",
    "    domain_id_df['proteinid'] = domain_id_df['identifier'].map(lambda x: str(x).split('_')[0])\n",
    "    domain_id_df[domain_nm + '_start'] = domain_id_df['identifier'].map(lambda x: str(x).split('_')[1])\n",
    "    domain_id_df[domain_nm + '_end'] = domain_id_df['identifier'].map(lambda x: str(x).split('_')[-1])\n",
    "    \n",
    "    return domain_id_df"
   ]
  },
  {
   "cell_type": "markdown",
   "metadata": {},
   "source": [
    "# "
   ]
  },
  {
   "cell_type": "markdown",
   "metadata": {},
   "source": [
    "# Active Sites"
   ]
  },
  {
   "cell_type": "code",
   "execution_count": 45,
   "metadata": {},
   "outputs": [
    {
     "data": {
      "text/plain": [
       "(3582, 5)"
      ]
     },
     "execution_count": 45,
     "metadata": {},
     "output_type": "execute_result"
    }
   ],
   "source": [
    "active_domain_df = get_domains(u_df, 'Active site', 'ACT_SITE', 'active_region', \"note=\")\n",
    "active_domain_df.shape"
   ]
  },
  {
   "cell_type": "code",
   "execution_count": 46,
   "metadata": {},
   "outputs": [
    {
     "data": {
      "text/html": [
       "<div>\n",
       "<style scoped>\n",
       "    .dataframe tbody tr th:only-of-type {\n",
       "        vertical-align: middle;\n",
       "    }\n",
       "\n",
       "    .dataframe tbody tr th {\n",
       "        vertical-align: top;\n",
       "    }\n",
       "\n",
       "    .dataframe thead th {\n",
       "        text-align: right;\n",
       "    }\n",
       "</style>\n",
       "<table border=\"1\" class=\"dataframe\">\n",
       "  <thead>\n",
       "    <tr style=\"text-align: right;\">\n",
       "      <th></th>\n",
       "      <th>identifier</th>\n",
       "      <th>active_region</th>\n",
       "      <th>proteinid</th>\n",
       "      <th>active_region_start</th>\n",
       "      <th>active_region_end</th>\n",
       "    </tr>\n",
       "  </thead>\n",
       "  <tbody>\n",
       "    <tr>\n",
       "      <th>0</th>\n",
       "      <td>A0A0B4J2F2_D149_D149</td>\n",
       "      <td>Proton acceptor</td>\n",
       "      <td>A0A0B4J2F2</td>\n",
       "      <td>D149</td>\n",
       "      <td>D149</td>\n",
       "    </tr>\n",
       "    <tr>\n",
       "      <th>1</th>\n",
       "      <td>A0A1B0GTW7_E306_E306</td>\n",
       "      <td></td>\n",
       "      <td>A0A1B0GTW7</td>\n",
       "      <td>E306</td>\n",
       "      <td>E306</td>\n",
       "    </tr>\n",
       "    <tr>\n",
       "      <th>2</th>\n",
       "      <td>A0AVT1_C625_C625</td>\n",
       "      <td>Glycyl thioester intermediate</td>\n",
       "      <td>A0AVT1</td>\n",
       "      <td>C625</td>\n",
       "      <td>C625</td>\n",
       "    </tr>\n",
       "    <tr>\n",
       "      <th>3</th>\n",
       "      <td>A1KZ92_H812_H812</td>\n",
       "      <td>Proton acceptor</td>\n",
       "      <td>A1KZ92</td>\n",
       "      <td>H812</td>\n",
       "      <td>H812</td>\n",
       "    </tr>\n",
       "    <tr>\n",
       "      <th>4</th>\n",
       "      <td>A1L167_C88_C88</td>\n",
       "      <td>Glycyl thioester intermediate</td>\n",
       "      <td>A1L167</td>\n",
       "      <td>C88</td>\n",
       "      <td>C88</td>\n",
       "    </tr>\n",
       "  </tbody>\n",
       "</table>\n",
       "</div>"
      ],
      "text/plain": [
       "             identifier                  active_region   proteinid  \\\n",
       "0  A0A0B4J2F2_D149_D149                Proton acceptor  A0A0B4J2F2   \n",
       "1  A0A1B0GTW7_E306_E306                                 A0A1B0GTW7   \n",
       "2      A0AVT1_C625_C625  Glycyl thioester intermediate      A0AVT1   \n",
       "3      A1KZ92_H812_H812                Proton acceptor      A1KZ92   \n",
       "4        A1L167_C88_C88  Glycyl thioester intermediate      A1L167   \n",
       "\n",
       "  active_region_start active_region_end  \n",
       "0                D149              D149  \n",
       "1                E306              E306  \n",
       "2                C625              C625  \n",
       "3                H812              H812  \n",
       "4                 C88               C88  "
      ]
     },
     "execution_count": 46,
     "metadata": {},
     "output_type": "execute_result"
    }
   ],
   "source": [
    "active_domain_df.head()"
   ]
  },
  {
   "cell_type": "code",
   "execution_count": 47,
   "metadata": {},
   "outputs": [],
   "source": [
    "active_domain_df.to_csv(date + '_uniprot_active_region_identifiers.csv', index = False)"
   ]
  },
  {
   "cell_type": "markdown",
   "metadata": {},
   "source": [
    "# "
   ]
  },
  {
   "cell_type": "markdown",
   "metadata": {},
   "source": [
    "# Binding Sites "
   ]
  },
  {
   "cell_type": "code",
   "execution_count": 49,
   "metadata": {},
   "outputs": [
    {
     "data": {
      "text/plain": [
       "(28192, 5)"
      ]
     },
     "execution_count": 49,
     "metadata": {},
     "output_type": "execute_result"
    }
   ],
   "source": [
    "binding_domain_df = get_domains(u_df, 'Binding site', 'BINDING', 'binding_region', \"ligand=\")\n",
    "binding_domain_df.shape"
   ]
  },
  {
   "cell_type": "code",
   "execution_count": 50,
   "metadata": {},
   "outputs": [
    {
     "data": {
      "text/html": [
       "<div>\n",
       "<style scoped>\n",
       "    .dataframe tbody tr th:only-of-type {\n",
       "        vertical-align: middle;\n",
       "    }\n",
       "\n",
       "    .dataframe tbody tr th {\n",
       "        vertical-align: top;\n",
       "    }\n",
       "\n",
       "    .dataframe thead th {\n",
       "        text-align: right;\n",
       "    }\n",
       "</style>\n",
       "<table border=\"1\" class=\"dataframe\">\n",
       "  <thead>\n",
       "    <tr style=\"text-align: right;\">\n",
       "      <th></th>\n",
       "      <th>identifier</th>\n",
       "      <th>binding_region</th>\n",
       "      <th>proteinid</th>\n",
       "      <th>binding_region_start</th>\n",
       "      <th>binding_region_end</th>\n",
       "    </tr>\n",
       "  </thead>\n",
       "  <tbody>\n",
       "    <tr>\n",
       "      <th>0</th>\n",
       "      <td>A0A087X1C5_C461_C461</td>\n",
       "      <td>heme</td>\n",
       "      <td>A0A087X1C5</td>\n",
       "      <td>C461</td>\n",
       "      <td>C461</td>\n",
       "    </tr>\n",
       "    <tr>\n",
       "      <th>1</th>\n",
       "      <td>A0A0B4J2F2_L33_V41</td>\n",
       "      <td>ATP</td>\n",
       "      <td>A0A0B4J2F2</td>\n",
       "      <td>L33</td>\n",
       "      <td>V41</td>\n",
       "    </tr>\n",
       "    <tr>\n",
       "      <th>2</th>\n",
       "      <td>A0A0B4J2F2_K56_K56</td>\n",
       "      <td>ATP</td>\n",
       "      <td>A0A0B4J2F2</td>\n",
       "      <td>K56</td>\n",
       "      <td>K56</td>\n",
       "    </tr>\n",
       "    <tr>\n",
       "      <th>3</th>\n",
       "      <td>A0A1B0GTW7_H305_H305</td>\n",
       "      <td>Zn(2+)</td>\n",
       "      <td>A0A1B0GTW7</td>\n",
       "      <td>H305</td>\n",
       "      <td>H305</td>\n",
       "    </tr>\n",
       "    <tr>\n",
       "      <th>4</th>\n",
       "      <td>A0A1B0GTW7_H309_H309</td>\n",
       "      <td>Zn(2+)</td>\n",
       "      <td>A0A1B0GTW7</td>\n",
       "      <td>H309</td>\n",
       "      <td>H309</td>\n",
       "    </tr>\n",
       "  </tbody>\n",
       "</table>\n",
       "</div>"
      ],
      "text/plain": [
       "             identifier binding_region   proteinid binding_region_start  \\\n",
       "0  A0A087X1C5_C461_C461           heme  A0A087X1C5                 C461   \n",
       "1    A0A0B4J2F2_L33_V41            ATP  A0A0B4J2F2                  L33   \n",
       "2    A0A0B4J2F2_K56_K56            ATP  A0A0B4J2F2                  K56   \n",
       "3  A0A1B0GTW7_H305_H305         Zn(2+)  A0A1B0GTW7                 H305   \n",
       "4  A0A1B0GTW7_H309_H309         Zn(2+)  A0A1B0GTW7                 H309   \n",
       "\n",
       "  binding_region_end  \n",
       "0               C461  \n",
       "1                V41  \n",
       "2                K56  \n",
       "3               H305  \n",
       "4               H309  "
      ]
     },
     "execution_count": 50,
     "metadata": {},
     "output_type": "execute_result"
    }
   ],
   "source": [
    "binding_domain_df.head()"
   ]
  },
  {
   "cell_type": "code",
   "execution_count": 51,
   "metadata": {},
   "outputs": [],
   "source": [
    "binding_domain_df.to_csv(date + '_uniprot_binding_region_identifiers.csv', index = False)"
   ]
  },
  {
   "cell_type": "markdown",
   "metadata": {},
   "source": [
    "# "
   ]
  },
  {
   "cell_type": "markdown",
   "metadata": {},
   "source": [
    "# Read Residue IDs "
   ]
  },
  {
   "cell_type": "code",
   "execution_count": 52,
   "metadata": {},
   "outputs": [],
   "source": [
    "residue_df = pd.read_csv('aa_ids/2401_uniprot_cysteineids.csv')"
   ]
  },
  {
   "cell_type": "code",
   "execution_count": 53,
   "metadata": {},
   "outputs": [
    {
     "data": {
      "text/plain": [
       "(261951, 2)"
      ]
     },
     "execution_count": 53,
     "metadata": {},
     "output_type": "execute_result"
    }
   ],
   "source": [
    "residue_df.shape"
   ]
  },
  {
   "cell_type": "code",
   "execution_count": 54,
   "metadata": {},
   "outputs": [
    {
     "data": {
      "text/html": [
       "<div>\n",
       "<style scoped>\n",
       "    .dataframe tbody tr th:only-of-type {\n",
       "        vertical-align: middle;\n",
       "    }\n",
       "\n",
       "    .dataframe tbody tr th {\n",
       "        vertical-align: top;\n",
       "    }\n",
       "\n",
       "    .dataframe thead th {\n",
       "        text-align: right;\n",
       "    }\n",
       "</style>\n",
       "<table border=\"1\" class=\"dataframe\">\n",
       "  <thead>\n",
       "    <tr style=\"text-align: right;\">\n",
       "      <th></th>\n",
       "      <th>proteinid</th>\n",
       "      <th>residueid</th>\n",
       "    </tr>\n",
       "  </thead>\n",
       "  <tbody>\n",
       "    <tr>\n",
       "      <th>0</th>\n",
       "      <td>A0A087X1C5</td>\n",
       "      <td>A0A087X1C5_C57</td>\n",
       "    </tr>\n",
       "    <tr>\n",
       "      <th>1</th>\n",
       "      <td>A0A087X1C5</td>\n",
       "      <td>A0A087X1C5_C159</td>\n",
       "    </tr>\n",
       "    <tr>\n",
       "      <th>2</th>\n",
       "      <td>A0A087X1C5</td>\n",
       "      <td>A0A087X1C5_C161</td>\n",
       "    </tr>\n",
       "    <tr>\n",
       "      <th>3</th>\n",
       "      <td>A0A087X1C5</td>\n",
       "      <td>A0A087X1C5_C191</td>\n",
       "    </tr>\n",
       "    <tr>\n",
       "      <th>4</th>\n",
       "      <td>A0A087X1C5</td>\n",
       "      <td>A0A087X1C5_C337</td>\n",
       "    </tr>\n",
       "  </tbody>\n",
       "</table>\n",
       "</div>"
      ],
      "text/plain": [
       "    proteinid        residueid\n",
       "0  A0A087X1C5   A0A087X1C5_C57\n",
       "1  A0A087X1C5  A0A087X1C5_C159\n",
       "2  A0A087X1C5  A0A087X1C5_C161\n",
       "3  A0A087X1C5  A0A087X1C5_C191\n",
       "4  A0A087X1C5  A0A087X1C5_C337"
      ]
     },
     "execution_count": 54,
     "metadata": {},
     "output_type": "execute_result"
    }
   ],
   "source": [
    "residue_df.head()"
   ]
  },
  {
   "cell_type": "markdown",
   "metadata": {},
   "source": [
    "# "
   ]
  },
  {
   "cell_type": "markdown",
   "metadata": {},
   "source": [
    "# Which amino acids are in active or binding sites? "
   ]
  },
  {
   "cell_type": "code",
   "execution_count": 61,
   "metadata": {},
   "outputs": [],
   "source": [
    "def get_resid(df, col):\n",
    "\n",
    "    new_df = df.copy()\n",
    "    vals = []\n",
    "\n",
    "    for index, row in df.iterrows():\n",
    "        vals.append(row[col].split('_')[1])\n",
    "\n",
    "    new_df['resid'] = vals\n",
    "    return new_df"
   ]
  },
  {
   "cell_type": "code",
   "execution_count": 62,
   "metadata": {},
   "outputs": [],
   "source": [
    "def in_between(df, col, start, end, site_name):\n",
    "\n",
    "    new_df = df.copy()\n",
    "    vals = []\n",
    "    \n",
    "    for index, row in df.iterrows():\n",
    "        current_resid = int(row[col][1:])\n",
    "\n",
    "        if (current_resid >= int(row[start][1:])) & (current_resid <= int(row[end][1:])):\n",
    "            vals.append('yes')\n",
    "            \n",
    "        else:\n",
    "            vals.append(None)\n",
    "            \n",
    "    new_df['resid_in_' + site_name] = vals\n",
    "    return new_df"
   ]
  },
  {
   "cell_type": "code",
   "execution_count": 79,
   "metadata": {},
   "outputs": [],
   "source": [
    "def find_inbetween(input_df, site_df, site_name, site_type):\n",
    "    subset_input_df = input_df[['proteinid', 'residueid']]\n",
    "    subset_input_df = subset_input_df.drop_duplicates()\n",
    "    \n",
    "    # merge interpro and input\n",
    "    domain_df = pd.merge(subset_input_df, site_df, on = 'proteinid', how = 'left')\n",
    "    found_domain_df = domain_df[domain_df['proteinid'].isna() == False]\n",
    "    print(\"Merged Sites and Input\")\n",
    "\n",
    "    # create resid\n",
    "    # found_domain_df['resid'] = found_domain_df[args.rc].map(lambda x: str(x).split('_')[1])\n",
    "    found_domain_w_resid_df = get_resid(found_domain_df, 'residueid')\n",
    "    # found_domain_df['resid'] = resid_vals\n",
    "    print(\"Created Resid\")\n",
    "\n",
    "    # find residues in interpro domains\n",
    "    no_na_df = found_domain_w_resid_df[found_domain_w_resid_df[site_name + '_start'].isna() == False]\n",
    "    no_na_site_df = in_between(no_na_df, 'resid', site_name + '_start', site_name + '_end', site_type)\n",
    "\n",
    "    # na_df = found_domain_w_resid_df[found_domain_w_resid_df[site_name + '_start'].isna() != False]\n",
    "    # na_site_df = na_df.copy()\n",
    "    # na_site_df['resid_in_' + args.sc.strip()] = None\n",
    "\n",
    "    # site_df = pd.concat([no_na_site_df, na_site_df])\n",
    "    site_df = no_na_site_df.copy()\n",
    "    print(\"Found Resids in UniProt Site Regions\")\n",
    "\n",
    "    # subset output\n",
    "    subset_found_domain_df = site_df.drop(columns = [site_name + '_start', site_name + '_end'])\n",
    "    subset_found_domain_df = subset_found_domain_df.drop_duplicates()\n",
    "    \n",
    "    print(subset_found_domain_df['resid_in_' + site_type].value_counts())\n",
    "\n",
    "    return subset_found_domain_df"
   ]
  },
  {
   "cell_type": "markdown",
   "metadata": {},
   "source": [
    "# "
   ]
  },
  {
   "cell_type": "markdown",
   "metadata": {},
   "source": [
    "## Active Sites "
   ]
  },
  {
   "cell_type": "code",
   "execution_count": 73,
   "metadata": {},
   "outputs": [
    {
     "name": "stdout",
     "output_type": "stream",
     "text": [
      "Merged Sites and Input\n",
      "Created Resid\n",
      "Found Resids in UniProt Site Regions\n",
      "yes    595\n",
      "Name: resid_in_ar, dtype: int64\n"
     ]
    }
   ],
   "source": [
    "found_active_region_df = find_inbetween(residue_df, active_domain_df, 'active_region', 'ar')"
   ]
  },
  {
   "cell_type": "code",
   "execution_count": 74,
   "metadata": {},
   "outputs": [
    {
     "data": {
      "text/html": [
       "<div>\n",
       "<style scoped>\n",
       "    .dataframe tbody tr th:only-of-type {\n",
       "        vertical-align: middle;\n",
       "    }\n",
       "\n",
       "    .dataframe tbody tr th {\n",
       "        vertical-align: top;\n",
       "    }\n",
       "\n",
       "    .dataframe thead th {\n",
       "        text-align: right;\n",
       "    }\n",
       "</style>\n",
       "<table border=\"1\" class=\"dataframe\">\n",
       "  <thead>\n",
       "    <tr style=\"text-align: right;\">\n",
       "      <th></th>\n",
       "      <th>proteinid</th>\n",
       "      <th>residueid</th>\n",
       "      <th>identifier</th>\n",
       "      <th>active_region</th>\n",
       "      <th>resid</th>\n",
       "      <th>resid_in_ar</th>\n",
       "    </tr>\n",
       "  </thead>\n",
       "  <tbody>\n",
       "    <tr>\n",
       "      <th>9</th>\n",
       "      <td>A0A0B4J2F2</td>\n",
       "      <td>A0A0B4J2F2_C140</td>\n",
       "      <td>A0A0B4J2F2_D149_D149</td>\n",
       "      <td>Proton acceptor</td>\n",
       "      <td>C140</td>\n",
       "      <td>None</td>\n",
       "    </tr>\n",
       "    <tr>\n",
       "      <th>10</th>\n",
       "      <td>A0A0B4J2F2</td>\n",
       "      <td>A0A0B4J2F2_C184</td>\n",
       "      <td>A0A0B4J2F2_D149_D149</td>\n",
       "      <td>Proton acceptor</td>\n",
       "      <td>C184</td>\n",
       "      <td>None</td>\n",
       "    </tr>\n",
       "    <tr>\n",
       "      <th>11</th>\n",
       "      <td>A0A0B4J2F2</td>\n",
       "      <td>A0A0B4J2F2_C219</td>\n",
       "      <td>A0A0B4J2F2_D149_D149</td>\n",
       "      <td>Proton acceptor</td>\n",
       "      <td>C219</td>\n",
       "      <td>None</td>\n",
       "    </tr>\n",
       "    <tr>\n",
       "      <th>12</th>\n",
       "      <td>A0A0B4J2F2</td>\n",
       "      <td>A0A0B4J2F2_C251</td>\n",
       "      <td>A0A0B4J2F2_D149_D149</td>\n",
       "      <td>Proton acceptor</td>\n",
       "      <td>C251</td>\n",
       "      <td>None</td>\n",
       "    </tr>\n",
       "    <tr>\n",
       "      <th>13</th>\n",
       "      <td>A0A0B4J2F2</td>\n",
       "      <td>A0A0B4J2F2_C283</td>\n",
       "      <td>A0A0B4J2F2_D149_D149</td>\n",
       "      <td>Proton acceptor</td>\n",
       "      <td>C283</td>\n",
       "      <td>None</td>\n",
       "    </tr>\n",
       "  </tbody>\n",
       "</table>\n",
       "</div>"
      ],
      "text/plain": [
       "     proteinid        residueid            identifier    active_region resid  \\\n",
       "9   A0A0B4J2F2  A0A0B4J2F2_C140  A0A0B4J2F2_D149_D149  Proton acceptor  C140   \n",
       "10  A0A0B4J2F2  A0A0B4J2F2_C184  A0A0B4J2F2_D149_D149  Proton acceptor  C184   \n",
       "11  A0A0B4J2F2  A0A0B4J2F2_C219  A0A0B4J2F2_D149_D149  Proton acceptor  C219   \n",
       "12  A0A0B4J2F2  A0A0B4J2F2_C251  A0A0B4J2F2_D149_D149  Proton acceptor  C251   \n",
       "13  A0A0B4J2F2  A0A0B4J2F2_C283  A0A0B4J2F2_D149_D149  Proton acceptor  C283   \n",
       "\n",
       "   resid_in_ar  \n",
       "9         None  \n",
       "10        None  \n",
       "11        None  \n",
       "12        None  \n",
       "13        None  "
      ]
     },
     "execution_count": 74,
     "metadata": {},
     "output_type": "execute_result"
    }
   ],
   "source": [
    "found_active_region_df.head()"
   ]
  },
  {
   "cell_type": "code",
   "execution_count": 75,
   "metadata": {},
   "outputs": [],
   "source": [
    "found_active_region_df.to_csv(date + '_uniprot_active_region_identifiers.csv', index = False)"
   ]
  },
  {
   "cell_type": "markdown",
   "metadata": {},
   "source": [
    "# "
   ]
  },
  {
   "cell_type": "markdown",
   "metadata": {},
   "source": [
    "# Binding Sites "
   ]
  },
  {
   "cell_type": "code",
   "execution_count": 80,
   "metadata": {},
   "outputs": [
    {
     "name": "stdout",
     "output_type": "stream",
     "text": [
      "Merged Sites and Input\n",
      "Created Resid\n",
      "Found Resids in UniProt Site Regions\n",
      "yes    4928\n",
      "Name: resid_in_br, dtype: int64\n"
     ]
    }
   ],
   "source": [
    "found_binding_region_df = find_inbetween(residue_df, binding_domain_df, 'binding_region', 'br')"
   ]
  },
  {
   "cell_type": "code",
   "execution_count": 81,
   "metadata": {},
   "outputs": [
    {
     "data": {
      "text/html": [
       "<div>\n",
       "<style scoped>\n",
       "    .dataframe tbody tr th:only-of-type {\n",
       "        vertical-align: middle;\n",
       "    }\n",
       "\n",
       "    .dataframe tbody tr th {\n",
       "        vertical-align: top;\n",
       "    }\n",
       "\n",
       "    .dataframe thead th {\n",
       "        text-align: right;\n",
       "    }\n",
       "</style>\n",
       "<table border=\"1\" class=\"dataframe\">\n",
       "  <thead>\n",
       "    <tr style=\"text-align: right;\">\n",
       "      <th></th>\n",
       "      <th>proteinid</th>\n",
       "      <th>residueid</th>\n",
       "      <th>identifier</th>\n",
       "      <th>binding_region</th>\n",
       "      <th>resid</th>\n",
       "      <th>resid_in_br</th>\n",
       "    </tr>\n",
       "  </thead>\n",
       "  <tbody>\n",
       "    <tr>\n",
       "      <th>0</th>\n",
       "      <td>A0A087X1C5</td>\n",
       "      <td>A0A087X1C5_C57</td>\n",
       "      <td>A0A087X1C5_C461_C461</td>\n",
       "      <td>heme</td>\n",
       "      <td>C57</td>\n",
       "      <td>None</td>\n",
       "    </tr>\n",
       "    <tr>\n",
       "      <th>1</th>\n",
       "      <td>A0A087X1C5</td>\n",
       "      <td>A0A087X1C5_C159</td>\n",
       "      <td>A0A087X1C5_C461_C461</td>\n",
       "      <td>heme</td>\n",
       "      <td>C159</td>\n",
       "      <td>None</td>\n",
       "    </tr>\n",
       "    <tr>\n",
       "      <th>2</th>\n",
       "      <td>A0A087X1C5</td>\n",
       "      <td>A0A087X1C5_C161</td>\n",
       "      <td>A0A087X1C5_C461_C461</td>\n",
       "      <td>heme</td>\n",
       "      <td>C161</td>\n",
       "      <td>None</td>\n",
       "    </tr>\n",
       "    <tr>\n",
       "      <th>3</th>\n",
       "      <td>A0A087X1C5</td>\n",
       "      <td>A0A087X1C5_C191</td>\n",
       "      <td>A0A087X1C5_C461_C461</td>\n",
       "      <td>heme</td>\n",
       "      <td>C191</td>\n",
       "      <td>None</td>\n",
       "    </tr>\n",
       "    <tr>\n",
       "      <th>4</th>\n",
       "      <td>A0A087X1C5</td>\n",
       "      <td>A0A087X1C5_C337</td>\n",
       "      <td>A0A087X1C5_C461_C461</td>\n",
       "      <td>heme</td>\n",
       "      <td>C337</td>\n",
       "      <td>None</td>\n",
       "    </tr>\n",
       "  </tbody>\n",
       "</table>\n",
       "</div>"
      ],
      "text/plain": [
       "    proteinid        residueid            identifier binding_region resid  \\\n",
       "0  A0A087X1C5   A0A087X1C5_C57  A0A087X1C5_C461_C461           heme   C57   \n",
       "1  A0A087X1C5  A0A087X1C5_C159  A0A087X1C5_C461_C461           heme  C159   \n",
       "2  A0A087X1C5  A0A087X1C5_C161  A0A087X1C5_C461_C461           heme  C161   \n",
       "3  A0A087X1C5  A0A087X1C5_C191  A0A087X1C5_C461_C461           heme  C191   \n",
       "4  A0A087X1C5  A0A087X1C5_C337  A0A087X1C5_C461_C461           heme  C337   \n",
       "\n",
       "  resid_in_br  \n",
       "0        None  \n",
       "1        None  \n",
       "2        None  \n",
       "3        None  \n",
       "4        None  "
      ]
     },
     "execution_count": 81,
     "metadata": {},
     "output_type": "execute_result"
    }
   ],
   "source": [
    "found_binding_region_df.head()"
   ]
  },
  {
   "cell_type": "code",
   "execution_count": 82,
   "metadata": {},
   "outputs": [],
   "source": [
    "found_binding_region_df.to_csv(date + '_uniprot_binding_region_identifiers.csv', index = False)"
   ]
  },
  {
   "cell_type": "code",
   "execution_count": null,
   "metadata": {},
   "outputs": [],
   "source": []
  }
 ],
 "metadata": {
  "kernelspec": {
   "display_name": "Python 3 (ipykernel)",
   "language": "python",
   "name": "python3"
  },
  "language_info": {
   "codemirror_mode": {
    "name": "ipython",
    "version": 3
   },
   "file_extension": ".py",
   "mimetype": "text/x-python",
   "name": "python",
   "nbconvert_exporter": "python",
   "pygments_lexer": "ipython3",
   "version": "3.10.9"
  }
 },
 "nbformat": 4,
 "nbformat_minor": 4
}
